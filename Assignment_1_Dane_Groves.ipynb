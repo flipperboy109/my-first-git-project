{
 "cells": [
  {
   "cell_type": "markdown",
   "metadata": {
    "id": "0K_H5rr5giSI"
   },
   "source": [
    "![LL%20&%20SU.jpg](attachment:LL%20&%20SU.jpg)"
   ]
  },
  {
   "cell_type": "markdown",
   "metadata": {
    "id": "MlCSBAd6Y1we"
   },
   "source": [
    "# Assignment \\#1: Introduction to Python\n",
    "\n",
    "\n"
   ]
  },
  {
   "cell_type": "markdown",
   "metadata": {
    "id": "4DNIRPmzgiSP"
   },
   "source": [
    "This Assignments aims to test introductory Python skills, specifically content covered in the _Introduction to Python_ and _Intermediate Python_ DataCamp courses."
   ]
  },
  {
   "cell_type": "markdown",
   "metadata": {
    "id": "r9LVyrwlPVp2"
   },
   "source": [
    "## Lists and sets\n",
    "\n",
    "### Write dynamic code to solve the following questions:\n",
    "\n",
    "Display the given Python list in reverse order."
   ]
  },
  {
   "cell_type": "code",
   "execution_count": 18,
   "metadata": {
    "colab": {
     "base_uri": "https://localhost:8080/"
    },
    "id": "CRaG6Jg8PWcc",
    "outputId": "d4ddfe68-d190-478d-bd69-1a0e5701b935"
   },
   "outputs": [
    {
     "name": "stdout",
     "output_type": "stream",
     "text": [
      "[500, 400, 300, 200, 100]\n"
     ]
    }
   ],
   "source": [
    "a = [100, 200, 300, 400, 500]\n",
    "\n",
    "a.reverse()\n",
    "print(a)\n"
   ]
  },
  {
   "cell_type": "markdown",
   "metadata": {
    "id": "2zlvVDUXPbzU"
   },
   "source": [
    "Given a list, turn every item of the list into its square."
   ]
  },
  {
   "cell_type": "code",
   "execution_count": 16,
   "metadata": {
    "id": "gR_XMJ6lPcvu"
   },
   "outputs": [
    {
     "name": "stdout",
     "output_type": "stream",
     "text": [
      "[ 1  4  9 16 25 36 49]\n"
     ]
    }
   ],
   "source": [
    "a = [1, 2, 3, 4, 5, 6, 7]\n",
    "\n",
    "import numpy as np\n",
    "arr = np.array(a)\n",
    "print(arr ** 2)\n"
   ]
  },
  {
   "cell_type": "markdown",
   "metadata": {
    "id": "ols15FoyPi4k"
   },
   "source": [
    "Remove empty strings from the list of strings."
   ]
  },
  {
   "cell_type": "code",
   "execution_count": 15,
   "metadata": {
    "id": "vbHhVHOgPjPM"
   },
   "outputs": [
    {
     "name": "stdout",
     "output_type": "stream",
     "text": [
      "['Mike', 'Emma', 'Kelly', 'Brad']\n"
     ]
    }
   ],
   "source": [
    "a = [\"Mike\", \"\", \"Emma\", \"Kelly\", \"\", \"Brad\"]\n",
    "\n",
    "for item in a:\n",
    "    if item == \"\":\n",
    "        a.remove(item)\n",
    "print(a)\n"
   ]
  },
  {
   "cell_type": "markdown",
   "metadata": {
    "id": "X-lN5LbEP0T8"
   },
   "source": [
    "Given a Python list, find value 15 in the list, and if it is present, replace it with 150. Only update the first occurrence of a value."
   ]
  },
  {
   "cell_type": "code",
   "execution_count": 14,
   "metadata": {
    "id": "4041JNqvP1v8"
   },
   "outputs": [
    {
     "name": "stdout",
     "output_type": "stream",
     "text": [
      "[5, 10, 150, 15, 20, 15, 50, 20]\n"
     ]
    }
   ],
   "source": [
    "a = [5, 10, 15, 20, 15, 50, 20]\n",
    "\n",
    "\n",
    "a.insert(a.index(15),150)\n",
    "print(a)\n"
   ]
  },
  {
   "cell_type": "markdown",
   "metadata": {
    "id": "GpUo7d3CP9RG"
   },
   "source": [
    "Given a Python list, remove all occurrence of 15 from the list."
   ]
  },
  {
   "cell_type": "code",
   "execution_count": 13,
   "metadata": {
    "id": "uR70zQxVP-UD"
   },
   "outputs": [
    {
     "name": "stdout",
     "output_type": "stream",
     "text": [
      "[5, 10, 20, 50, 20]\n"
     ]
    }
   ],
   "source": [
    "a = [5, 10, 15, 20, 15, 50, 20]\n",
    "for item in a:\n",
    "    if item == 15:\n",
    "        a.remove(item)\n",
    "print(a)"
   ]
  },
  {
   "cell_type": "markdown",
   "metadata": {
    "id": "WXGNlNeSHMVk"
   },
   "source": [
    "Add list of elements in *aList* to a given set, *aSet*."
   ]
  },
  {
   "cell_type": "code",
   "execution_count": 22,
   "metadata": {
    "colab": {
     "base_uri": "https://localhost:8080/"
    },
    "id": "2P7N5SZC3eSu",
    "outputId": "1a7f81aa-4f36-4222-a690-dc3b6b43f54b"
   },
   "outputs": [
    {
     "name": "stdout",
     "output_type": "stream",
     "text": [
      "{'Cat', 'Dog', 'Rabbit', 'Bird', 'Horse', 'Lizard'}\n"
     ]
    }
   ],
   "source": [
    "aSet = {\"Dog\", \"Bird\", \"Horse\"}\n",
    "aList = [\"Lizard\", \"Cat\", \"Rabbit\"]\n",
    "\n",
    "aSet.update(aList)\n",
    "print(aSet)\n"
   ]
  },
  {
   "cell_type": "markdown",
   "metadata": {
    "id": "f44b_z0uIM-3"
   },
   "source": [
    "Return a set of identical items from two Python sets."
   ]
  },
  {
   "cell_type": "code",
   "execution_count": 23,
   "metadata": {
    "colab": {
     "base_uri": "https://localhost:8080/"
    },
    "id": "b2R4wK9fINQw",
    "outputId": "bb0146f2-5755-4241-fb40-947944024f39"
   },
   "outputs": [
    {
     "name": "stdout",
     "output_type": "stream",
     "text": [
      "{40, 50, 30}\n"
     ]
    }
   ],
   "source": [
    "set1 = {10, 20, 30, 40, 50}\n",
    "set2 = {30, 40, 50, 60, 70}\n",
    "\n",
    "print(set1.intersection(set2))\n"
   ]
  },
  {
   "cell_type": "markdown",
   "metadata": {
    "id": "H3Cb15fYITQZ"
   },
   "source": [
    "Given two Python sets, update first set with items that exist only in the first set and not in the second set."
   ]
  },
  {
   "cell_type": "code",
   "execution_count": 25,
   "metadata": {
    "colab": {
     "base_uri": "https://localhost:8080/"
    },
    "id": "9r_hLwbAITgR",
    "outputId": "8cbc4320-672f-4334-d0e3-0150e200847b"
   },
   "outputs": [
    {
     "name": "stdout",
     "output_type": "stream",
     "text": [
      "{10, 20}\n"
     ]
    }
   ],
   "source": [
    "set1 = {10, 20, 30, 40, 50}\n",
    "set2 = {30, 40, 50, 60, 70}\n",
    "set1.difference_update(set2)\n",
    "print(set1)\n"
   ]
  },
  {
   "cell_type": "markdown",
   "metadata": {
    "id": "uURAdZP4Ia0x"
   },
   "source": [
    "Remove items from *set1* that are not common to both *set1* and *set2*."
   ]
  },
  {
   "cell_type": "code",
   "execution_count": 26,
   "metadata": {
    "id": "9QLSVCrAIbCJ"
   },
   "outputs": [
    {
     "name": "stdout",
     "output_type": "stream",
     "text": [
      "{40, 50, 30}\n"
     ]
    }
   ],
   "source": [
    "set1 = {10, 20, 30, 40, 50}\n",
    "set2 = {30, 40, 50, 60, 70}\n",
    "\n",
    "set1.intersection_update(set2)\n",
    "print(set1)\n"
   ]
  },
  {
   "cell_type": "markdown",
   "metadata": {
    "id": "km-diWT0M7ZA"
   },
   "source": [
    "Return a set of all elements in either *set1* or *set2*, but not both."
   ]
  },
  {
   "cell_type": "code",
   "execution_count": 27,
   "metadata": {
    "id": "-cGxs2E8M-PW"
   },
   "outputs": [
    {
     "data": {
      "text/plain": [
       "{10, 20, 60, 70}"
      ]
     },
     "execution_count": 27,
     "metadata": {},
     "output_type": "execute_result"
    }
   ],
   "source": [
    "set1 = {10, 20, 30, 40, 50}\n",
    "set2 = {30, 40, 50, 60, 70}\n",
    "\n",
    "set1.symmetric_difference(set2)\n"
   ]
  },
  {
   "cell_type": "markdown",
   "metadata": {
    "id": "x9TackspMrtn"
   },
   "source": [
    "## Dictionaries\n",
    "Create a dictionary with the following key-value pairs: apple = 10, orange = 12, banana = 16, grape = 4."
   ]
  },
  {
   "cell_type": "code",
   "execution_count": 31,
   "metadata": {
    "id": "HbYew-FTyx8D"
   },
   "outputs": [],
   "source": [
    "fruit = {'apple':10, 'orange':12, 'banana':16,'grape':4}\n"
   ]
  },
  {
   "cell_type": "markdown",
   "metadata": {
    "id": "1rpwd4GDM1qv"
   },
   "source": [
    "Use the dictionary to retrieve the number of apples."
   ]
  },
  {
   "cell_type": "code",
   "execution_count": 32,
   "metadata": {
    "id": "TkdbuYxfzLrX"
   },
   "outputs": [
    {
     "data": {
      "text/plain": [
       "10"
      ]
     },
     "execution_count": 32,
     "metadata": {},
     "output_type": "execute_result"
    }
   ],
   "source": [
    "fruit['apple']\n"
   ]
  },
  {
   "cell_type": "markdown",
   "metadata": {
    "id": "LhN7O3WGWzK_"
   },
   "source": [
    "Use the dictionary to display the total fruit."
   ]
  },
  {
   "cell_type": "code",
   "execution_count": 33,
   "metadata": {
    "id": "8uBbkrjTzgln"
   },
   "outputs": [
    {
     "data": {
      "text/plain": [
       "42"
      ]
     },
     "execution_count": 33,
     "metadata": {},
     "output_type": "execute_result"
    }
   ],
   "source": [
    "sum(fruit.values())"
   ]
  },
  {
   "cell_type": "markdown",
   "metadata": {
    "id": "Dn5UgXE0NBmq"
   },
   "source": [
    "Add the following record to the dictionary: 23 pears"
   ]
  },
  {
   "cell_type": "code",
   "execution_count": 37,
   "metadata": {
    "id": "Ja8G1ZlUz6zm"
   },
   "outputs": [],
   "source": [
    "fruit['pears'] = 23\n"
   ]
  },
  {
   "cell_type": "markdown",
   "metadata": {
    "id": "qF5lhucGNP7X"
   },
   "source": [
    "Retrieve and display the most occuring fruit from dictionary.\n"
   ]
  },
  {
   "cell_type": "code",
   "execution_count": 43,
   "metadata": {
    "id": "UaCy0VqP0T3v"
   },
   "outputs": [
    {
     "name": "stdout",
     "output_type": "stream",
     "text": [
      "pears appear 23 time(s)\n"
     ]
    }
   ],
   "source": [
    "max_num = 0\n",
    "max_fruit = ''\n",
    "for item in fruit:\n",
    "    if fruit[item] > max_num:\n",
    "        max_num = fruit[item]\n",
    "        max_fruit = item\n",
    "print('{} appear {} time(s)'.format(max_fruit, max_num))\n",
    "        \n"
   ]
  },
  {
   "cell_type": "markdown",
   "metadata": {
    "id": "tt-v3FGeNtM_"
   },
   "source": [
    "Display fruit  in alphabetiacal order:\n",
    "\n"
   ]
  },
  {
   "cell_type": "code",
   "execution_count": 48,
   "metadata": {
    "id": "xdE3Xzoy0n8e"
   },
   "outputs": [
    {
     "name": "stdout",
     "output_type": "stream",
     "text": [
      "['apple', 'banana', 'grape', 'orange', 'pears']\n"
     ]
    }
   ],
   "source": [
    "fruit_list = list(fruit.keys())\n",
    "fruit_list.sort()\n",
    "print(fruit_list)\n"
   ]
  },
  {
   "cell_type": "markdown",
   "metadata": {
    "id": "Ys-vxE7g49oP"
   },
   "source": [
    "## Python Functions\n",
    "Create a function named \"sign()\" that returns \"positive\", \"negative\" or \"zero\" given an integer as input."
   ]
  },
  {
   "cell_type": "code",
   "execution_count": 50,
   "metadata": {
    "colab": {
     "base_uri": "https://localhost:8080/"
    },
    "id": "i5DT_VOj40eE",
    "outputId": "2c0ca0a6-df9d-49d4-923d-a55a3f3afcf1"
   },
   "outputs": [
    {
     "name": "stdout",
     "output_type": "stream",
     "text": [
      "negative\n",
      "zero\n",
      "postive\n"
     ]
    }
   ],
   "source": [
    "#Insert function:\n",
    "def sign(num):\n",
    "    if num > 0:\n",
    "        return 'postive'\n",
    "    elif num < 0:\n",
    "        return 'negative'\n",
    "    else:\n",
    "        return 'zero'\n",
    "# Test\n",
    "for x in [-1, 0, 1]:\n",
    "  print(sign(x))"
   ]
  },
  {
   "cell_type": "markdown",
   "metadata": {
    "id": "ZxKO10bl5XXl"
   },
   "source": [
    "Write a function named \"my_min()\" that returns the minimum value given arbitrary \n",
    "number of integers as input parameters."
   ]
  },
  {
   "cell_type": "code",
   "execution_count": 52,
   "metadata": {
    "colab": {
     "base_uri": "https://localhost:8080/"
    },
    "id": "8Y0Jza4x6lem",
    "outputId": "2f911323-55e9-4c29-d266-9901956118ee"
   },
   "outputs": [
    {
     "name": "stdout",
     "output_type": "stream",
     "text": [
      "2\n",
      "-10\n"
     ]
    }
   ],
   "source": [
    "# Insert function \n",
    "def my_min(*args):\n",
    "    return(min(args))\n",
    "# Test\n",
    "print(my_min(4, 5, 6, 7, 2))\n",
    "print(my_min(-10, 5, 3, -4, 1, 10, 3, 6))"
   ]
  },
  {
   "cell_type": "markdown",
   "metadata": {
    "id": "wcwze3o17jks"
   },
   "source": [
    "Write a recursive function to display the Fibonacci sequence using recursion. \n",
    "\n",
    "The first two terms are 0 and 1. All other terms are obtained by adding the preceding two terms i.e. the n-th term is the sum of (n-1)-th and (n-2)-th term."
   ]
  },
  {
   "cell_type": "code",
   "execution_count": 53,
   "metadata": {
    "colab": {
     "base_uri": "https://localhost:8080/"
    },
    "id": "BYoR2_a77l06",
    "outputId": "00483075-8ea1-46c3-a7d4-f0446345a88d"
   },
   "outputs": [
    {
     "name": "stdout",
     "output_type": "stream",
     "text": [
      "0\n",
      "1\n",
      "1\n",
      "2\n",
      "3\n",
      "5\n",
      "8\n",
      "13\n",
      "21\n",
      "34\n"
     ]
    }
   ],
   "source": [
    "def recur_fibo(n):\n",
    "  # Insert code here\n",
    "    if n<= 1:\n",
    "        return n\n",
    "    else:\n",
    "        return(recur_fibo(n-1) + recur_fibo(n-2))\n",
    "\n",
    "# Test\n",
    "for i in range(10):\n",
    "  print(recur_fibo(i))"
   ]
  },
  {
   "cell_type": "markdown",
   "metadata": {
    "id": "XrqpPP9N5yUS"
   },
   "source": [
    "## Python Classes\n",
    "Create a constructor for class \"Circle\" that takes x and y coordinates (center of cirlce) and radius as arguments to initialize an instance of the class."
   ]
  },
  {
   "cell_type": "code",
   "execution_count": 116,
   "metadata": {
    "id": "lum4UBEyEU-i",
    "outputId": "b59abb52-3e64-4621-fc4b-fba7a00c0354"
   },
   "outputs": [],
   "source": [
    "import math\n",
    "\n",
    "# Insert class here:\n",
    "class Circle:\n",
    "  # Insert constructor code\n",
    "    def __init__(self,x = 0,y = 0,r = 0):\n",
    "        self.x = x\n",
    "        self.y = y\n",
    "        self.r = r\n",
    "\n",
    "    def str_circle(self):\n",
    "        print(f'Circle at location x = {self.x} and y = {self.y} with radius = {self.r}')\n",
    "\n",
    "    def dist(self, other):\n",
    "        # Insert code\n",
    "        return math.sqrt((self.x-other.x) ** 2 + (self.y - other.y) ** 2)\n",
    "\n",
    "    def overlap(self, other):\n",
    "        # Insert code\n",
    "        check = self.dist(other)\n",
    "        if  check > (self.r + other.r) :\n",
    "            return False\n",
    "        else:\n",
    "            return True\n",
    "\n",
    "    def area(self):\n",
    "        # Insert code\n",
    "        return math.pi * self.r ** 2\n",
    "\n",
    "    def overlap_area(self, other):\n",
    "        # Insert code\n",
    "        if self.overlap(other):\n",
    "            d = self.dist(other)\n",
    "            r1 = self.r \n",
    "            R = other.r\n",
    "            return (r1 ** 2) * (math.acos((d ** 2 + r1 ** 2 - R ** 2) / (2*d*r1))) + R ** 2 * acos((d ** 2 + R ** 2 - r1 **2)/(2*d*R)) - 0.5 * math.sqrt((-d + r1 + R)*(d + r1 - R)*(d - r1 + R)*(d + r1 + R))\n",
    "        else:\n",
    "            print(\"Circles do not overlap\")\n",
    "\n"
   ]
  },
  {
   "cell_type": "markdown",
   "metadata": {
    "id": "HYANUp61giSh"
   },
   "source": [
    "Create the following two circles:\n",
    "*   circle 1: x = 2, y = 1, rad = 1\n",
    "\n",
    "*   circle 2: x = -1, y = -2, rad 3 \n"
   ]
  },
  {
   "cell_type": "code",
   "execution_count": 117,
   "metadata": {
    "id": "NVjs5iHVgiSh"
   },
   "outputs": [],
   "source": [
    "# Insert code\n",
    "circle1 = Circle(x = 2, y = 1, r = 1)\n",
    "circle2 = Circle(x = -1, y = -2, r = 3)"
   ]
  },
  {
   "cell_type": "markdown",
   "metadata": {
    "id": "fLKTGal26Zz1"
   },
   "source": [
    "Complete the function \"str_circle()\" to print the properties of both circles as follow:\n",
    "\n",
    "\"Circle at location x = 2 and y = 3 with radius = 1\"\n",
    "\n"
   ]
  },
  {
   "cell_type": "code",
   "execution_count": 118,
   "metadata": {
    "id": "vJx-y-jbHics"
   },
   "outputs": [
    {
     "name": "stdout",
     "output_type": "stream",
     "text": [
      "Circle at location x = 2 and y = 1 with radius = 1\n",
      "Circle at location x = -1 and y = -2 with radius = 3\n"
     ]
    }
   ],
   "source": [
    "circle1.str_circle()\n",
    "circle2.str_circle()"
   ]
  },
  {
   "cell_type": "markdown",
   "metadata": {
    "id": "bZwCc0811uHZ"
   },
   "source": [
    "Complete the function \"dist()\" to return the euclidean distance between two circles' centers. Print the distance between circle 1 and 2."
   ]
  },
  {
   "cell_type": "code",
   "execution_count": 119,
   "metadata": {
    "id": "bRTtEwtrHqTa"
   },
   "outputs": [
    {
     "name": "stdout",
     "output_type": "stream",
     "text": [
      "4.242640687119285\n"
     ]
    }
   ],
   "source": [
    "# Test\n",
    "\n",
    "center_dist = circle1.dist(circle2)\n",
    "print(center_dist)"
   ]
  },
  {
   "cell_type": "markdown",
   "metadata": {
    "id": "8OxhLIwg2fiQ"
   },
   "source": [
    "Complete the function \"overlap()\". The function should return True if the circles overlap and False otherwise."
   ]
  },
  {
   "cell_type": "code",
   "execution_count": 120,
   "metadata": {
    "id": "5S7D2YLpnYop"
   },
   "outputs": [
    {
     "data": {
      "text/plain": [
       "False"
      ]
     },
     "execution_count": 120,
     "metadata": {},
     "output_type": "execute_result"
    }
   ],
   "source": [
    "# Test\n",
    "circle1.overlap(circle2)"
   ]
  },
  {
   "cell_type": "markdown",
   "metadata": {
    "id": "KjAxXuEg27nG"
   },
   "source": [
    "Complete fuction \"area()\". The function should return the area of the circle."
   ]
  },
  {
   "cell_type": "code",
   "execution_count": 121,
   "metadata": {
    "id": "KFJz4Pxmol7_"
   },
   "outputs": [
    {
     "data": {
      "text/plain": [
       "3.141592653589793"
      ]
     },
     "execution_count": 121,
     "metadata": {},
     "output_type": "execute_result"
    }
   ],
   "source": [
    "# Test\n",
    "circle1.area()"
   ]
  },
  {
   "cell_type": "markdown",
   "metadata": {
    "id": "01FUpDEn3H_3"
   },
   "source": [
    "Complete function \"overlap_area\". The function should return the overlapping area between two circles. \n",
    "\n",
    "If the circles do not overlap, return the message: \"Circles do not overlap\"\n",
    "\n",
    "The formula for calculating the overlapping area between two circles is provided below:"
   ]
  },
  {
   "cell_type": "markdown",
   "metadata": {
    "id": "7rMKO_ckjdHT"
   },
   "source": [
    "\\begin{equation}\n",
    "\\small\n",
    "A = \n",
    "r^2\\text{cos}^{-1}(\\frac{d^2+r^2-R^2}{2dr}) + R^2\\text{cos}^{-1}(\\frac{d^2+R^2-r^2}{2dR}) -\n",
    "\\frac{1}{2}\\sqrt{(-d+r+R)(d+r-R)(d-r+R)(d+r+R)}\n",
    "\\end{equation}\n"
   ]
  },
  {
   "cell_type": "markdown",
   "metadata": {
    "id": "MNJtmVbSlEgh"
   },
   "source": [
    "$\\;\\;\\;\\;\\;\\;\\;\\;$A = area of overlapping <br>\n",
    "$\\;\\;\\;\\;\\;\\;\\;\\;$r = radius of circle 1 <br>\n",
    "$\\;\\;\\;\\;\\;\\;\\;\\;$R = radius of circle 2 <br>\n",
    "$\\;\\;\\;\\;\\;\\;\\;\\;$d = distance between the circles <br>"
   ]
  },
  {
   "cell_type": "code",
   "execution_count": 122,
   "metadata": {
    "id": "ihNOnkoppWzX"
   },
   "outputs": [
    {
     "name": "stdout",
     "output_type": "stream",
     "text": [
      "Circles do not overlap\n"
     ]
    }
   ],
   "source": [
    "# Test\n",
    "circle1.overlap_area(circle2)"
   ]
  },
  {
   "cell_type": "markdown",
   "metadata": {
    "id": "4WUsBU4409ax"
   },
   "source": [
    "##  Introduction to Numpy"
   ]
  },
  {
   "cell_type": "code",
   "execution_count": null,
   "metadata": {
    "id": "Kt2KwTGpbuG9"
   },
   "outputs": [],
   "source": [
    "# Import numpy library\n",
    "import numpy as np"
   ]
  },
  {
   "cell_type": "markdown",
   "metadata": {
    "id": "Fy7GkCFSrqz5"
   },
   "source": [
    "Given the matrix, write code to compute the average over all the entries in the matrix."
   ]
  },
  {
   "cell_type": "code",
   "execution_count": 123,
   "metadata": {
    "id": "zwICAdFU0__E"
   },
   "outputs": [
    {
     "data": {
      "text/plain": [
       "-0.1938451333333334"
      ]
     },
     "execution_count": 123,
     "metadata": {},
     "output_type": "execute_result"
    }
   ],
   "source": [
    "A = [[ 1.27411064,  0.05188032, -1.27088046],\n",
    "       [-0.78844599, -0.14775522, -0.28198009]]\n",
    "\n",
    "a = np.array(A)\n",
    "\n",
    "np.mean(a)\n"
   ]
  },
  {
   "cell_type": "markdown",
   "metadata": {
    "id": "60HH5Utjr166"
   },
   "source": [
    "Given two vectors of data, print the Euclidean distance between them."
   ]
  },
  {
   "cell_type": "code",
   "execution_count": 125,
   "metadata": {
    "id": "knVnhb60br5w"
   },
   "outputs": [
    {
     "name": "stdout",
     "output_type": "stream",
     "text": [
      "2.27642738170527\n",
      "2.27642738170527\n"
     ]
    }
   ],
   "source": [
    "\n",
    "VEC1 = [-0.25560104,  0.06393334, -0.43760861,  0.35258494, -0.06174621]\n",
    "VEC2 = [0.16257878, -0.88344182,  1.14405499,  0.33765161,  1.206262]\n",
    "\n",
    "vec1 = np.array(VEC1)\n",
    "vec2 = np.array(VEC2)\n",
    "\n",
    "print(math.sqrt(np.sum((vec1-vec2) ** 2)))\n"
   ]
  },
  {
   "cell_type": "markdown",
   "metadata": {
    "id": "8M93EuXJsi6Y"
   },
   "source": [
    "Given two matrices of appropriate dimensions, print their matrix product.\n"
   ]
  },
  {
   "cell_type": "code",
   "execution_count": 128,
   "metadata": {
    "id": "xUEM0ltYccZG"
   },
   "outputs": [
    {
     "name": "stdout",
     "output_type": "stream",
     "text": [
      "[[0.81713281 1.09645617]\n",
      " [0.40946045 0.5626395 ]]\n"
     ]
    }
   ],
   "source": [
    "A = [[0.6583596987271446, 1.0128241391924433],\n",
    "        [0.37783705753739877, 0.42421340135829255]]\n",
    "\n",
    "B = [[0.6583596987271446, 1.0128241391924433],\n",
    "        [0.37883705753739877, 0.42421340135829255]]\n",
    "\n",
    "a = np.array(A)\n",
    "b = np.array(B)\n",
    "\n",
    "print(np.matmul(a,b))\n"
   ]
  },
  {
   "cell_type": "markdown",
   "metadata": {
    "id": "apaugYO9xhO-"
   },
   "source": [
    "Given `start` and `end` integer values, create a 1-d array consisting of all integer values between `start` and `end` (inclusive)."
   ]
  },
  {
   "cell_type": "code",
   "execution_count": 130,
   "metadata": {
    "id": "ImcwXBo0dFqd"
   },
   "outputs": [
    {
     "data": {
      "text/plain": [
       "array([ 3,  4,  5,  6,  7,  8,  9, 10])"
      ]
     },
     "execution_count": 130,
     "metadata": {},
     "output_type": "execute_result"
    }
   ],
   "source": [
    "start = 3\n",
    "end = 10\n",
    "\n",
    "a = np.array(list(range(start,end+1)))\n",
    "a"
   ]
  },
  {
   "cell_type": "markdown",
   "metadata": {
    "id": "BDGZWvRCx3Jv"
   },
   "source": [
    "Given a vector of integer data, print all the entries that are even.\n"
   ]
  },
  {
   "cell_type": "code",
   "execution_count": 131,
   "metadata": {
    "id": "XSwH5QrddOHT"
   },
   "outputs": [
    {
     "name": "stdout",
     "output_type": "stream",
     "text": [
      "[  2  18   2 234]\n"
     ]
    }
   ],
   "source": [
    "VEC = [-3, 5, 1, 2, 18, 2, 234, 11]\n",
    "\n",
    "vec = np.array(VEC)\n",
    "print(vec[vec % 2 == 0])\n",
    "# Insert code\n"
   ]
  },
  {
   "cell_type": "markdown",
   "metadata": {
    "id": "F2jCF5WWyNPv"
   },
   "source": [
    "Given two matrices, print whether they are equal (i.e. all their corresponding entries are the same).\n"
   ]
  },
  {
   "cell_type": "code",
   "execution_count": 139,
   "metadata": {
    "id": "zFVR5eTvdo3U"
   },
   "outputs": [
    {
     "name": "stdout",
     "output_type": "stream",
     "text": [
      "They are not equal\n"
     ]
    }
   ],
   "source": [
    "A = [[0.6583596987271446, 1.0128241391924433],\n",
    "        [0.37783705753739877, 0.42421340135829255],\n",
    "        [-0.6905233695318467, -0.498554227530507]]\n",
    "B = [[0.6583596987271446, 1.0128241391924433],\n",
    "        [0.37883705753739877, 0.42421340135829255],\n",
    "        [-0.6905233695318467, -0.498554227530507]]\n",
    " \n",
    "a = np.array(A)\n",
    "b = np.array(B)\n",
    "\n",
    "if (a == b).all():\n",
    "    print('They are equal')\n",
    "else:\n",
    "    print('They are not equal')\n"
   ]
  },
  {
   "cell_type": "markdown",
   "metadata": {
    "id": "vxHjg_j50AFm"
   },
   "source": [
    "Given two vectors of data, print the cosine distance between them.\n"
   ]
  },
  {
   "cell_type": "code",
   "execution_count": 142,
   "metadata": {
    "id": "jVd8F6lMfTqx"
   },
   "outputs": [
    {
     "name": "stdout",
     "output_type": "stream",
     "text": [
      "-0.46279558166521795\n"
     ]
    }
   ],
   "source": [
    "VEC1 = [-0.25560104,  0.06393334, -0.43760861,  0.35258494, -0.06174621]\n",
    "VEC2 = [ 0.16257878, -0.88344182,  1.14405499,  0.33765161,  1.206262]\n",
    "\n",
    "vec1 = np.array(VEC1)\n",
    "vec2 = np.array(VEC2)\n",
    "\n",
    "print(np.dot(vec1,vec2)/(np.linalg.norm(vec1)*np.linalg.norm(vec2)))\n"
   ]
  },
  {
   "cell_type": "markdown",
   "metadata": {
    "id": "zXcoAvLj0QpP"
   },
   "source": [
    "Given a vector of data, scale (multiply) all the entries in the vector by the vector mean and print the result."
   ]
  },
  {
   "cell_type": "code",
   "execution_count": 143,
   "metadata": {
    "id": "rKjizbtqfftu"
   },
   "outputs": [
    {
     "name": "stdout",
     "output_type": "stream",
     "text": [
      "[ 0.017301   -0.00432749  0.02962064 -0.0238656   0.00417945]\n"
     ]
    }
   ],
   "source": [
    "VEC = [-0.25560104,  0.06393334, -0.43760861,  0.35258494, -0.06174621]\n",
    "\n",
    "vec = np.array(VEC)\n",
    "\n",
    "print(np.mean(vec)*vec)\n"
   ]
  },
  {
   "cell_type": "markdown",
   "metadata": {
    "id": "Fp6ExmBF1BVH"
   },
   "source": [
    "Given a matrix, subtract the column mean from each entry. This has the effect of zero-centering the data and is often done in algorithms such as principal components analysis or when running computer vision models."
   ]
  },
  {
   "cell_type": "code",
   "execution_count": 144,
   "metadata": {
    "id": "vZZh3w8xj7wj"
   },
   "outputs": [
    {
     "data": {
      "text/plain": [
       "array([[ 0.54313524,  0.69999637],\n",
       "       [ 0.2626126 ,  0.11138563],\n",
       "       [-0.80574783, -0.811382  ]])"
      ]
     },
     "execution_count": 144,
     "metadata": {},
     "output_type": "execute_result"
    }
   ],
   "source": [
    "A = [[0.6583596987271446, 1.0128241391924433],\n",
    "       [0.37783705753739877, 0.42421340135829255],\n",
    "       [-0.6905233695318467, -0.498554227530507]]\n",
    "\n",
    "a = np.array(A)\n",
    "\n",
    "a = a - np.mean(a,axis = 0)\n",
    "a\n"
   ]
  },
  {
   "cell_type": "markdown",
   "metadata": {
    "id": "qR_wg7aL1Z52"
   },
   "source": [
    "Given a vector of data, compute the softmax scores of the vector.\n",
    "\n"
   ]
  },
  {
   "cell_type": "code",
   "execution_count": 145,
   "metadata": {
    "id": "rtknwL9EkRZn"
   },
   "outputs": [
    {
     "data": {
      "text/plain": [
       "array([0.10994028, 0.15133133, 0.09164567, 0.20197083, 0.13345871])"
      ]
     },
     "execution_count": 145,
     "metadata": {},
     "output_type": "execute_result"
    }
   ],
   "source": [
    "VEC = [-0.25560104,  0.06393334, -0.43760861,  0.35258494, -0.06174621]\n",
    "\n",
    "vec = np.array(VEC)\n",
    "\n",
    "np.exp(vec)/np.sum(np.exp(a))\n"
   ]
  },
  {
   "cell_type": "markdown",
   "metadata": {
    "id": "niedX0OU1uu_"
   },
   "source": [
    "Given a matrix, print whether or not there are any NaN values in the matrix. "
   ]
  },
  {
   "cell_type": "code",
   "execution_count": 149,
   "metadata": {
    "id": "__8Sok_Okz3i"
   },
   "outputs": [
    {
     "name": "stdout",
     "output_type": "stream",
     "text": [
      "There exist NaN values\n"
     ]
    }
   ],
   "source": [
    "A = [[0.6583596987271446, 1.0128241391924433],\n",
    "        [0.37783705753739877, float(\"nan\")],\n",
    "        [-0.6905233695318467, -0.498554227530507]]\n",
    "\n",
    "a = np.array(A)\n",
    "if (np.isnan(a)).any():\n",
    "    print('There exist NaN values')\n",
    "else:\n",
    "    print('NaN values do not exist')\n"
   ]
  },
  {
   "cell_type": "markdown",
   "metadata": {
    "id": "H-eWgony191X"
   },
   "source": [
    "Given a vector of data, normalize the vector to have 0 mean and variance of 1. (Z-score normalization)]"
   ]
  },
  {
   "cell_type": "code",
   "execution_count": null,
   "metadata": {
    "id": "k2o7u1BNlOni"
   },
   "outputs": [],
   "source": [
    "VEC = [-0.25560104,  0.06393334, -0.43760861,  0.35258494, -0.06174621]\n",
    "\n",
    "vec = np.array(VEC)\n",
    "\n",
    "# Insert code\n"
   ]
  }
 ],
 "metadata": {
  "colab": {
   "collapsed_sections": [],
   "name": "01 Assignment_1.ipynb",
   "provenance": []
  },
  "kernelspec": {
   "display_name": "Python 3",
   "language": "python",
   "name": "python3"
  },
  "language_info": {
   "codemirror_mode": {
    "name": "ipython",
    "version": 3
   },
   "file_extension": ".py",
   "mimetype": "text/x-python",
   "name": "python",
   "nbconvert_exporter": "python",
   "pygments_lexer": "ipython3",
   "version": "3.7.6"
  }
 },
 "nbformat": 4,
 "nbformat_minor": 1
}
